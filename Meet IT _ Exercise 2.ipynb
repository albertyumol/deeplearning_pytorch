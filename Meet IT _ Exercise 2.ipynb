{
 "cells": [
  {
   "cell_type": "code",
   "execution_count": 1,
   "metadata": {},
   "outputs": [],
   "source": [
    "import torch\n",
    "import torch.nn as nn"
   ]
  },
  {
   "cell_type": "code",
   "execution_count": 2,
   "metadata": {},
   "outputs": [
    {
     "data": {
      "text/plain": [
       "<torch._C.Generator at 0x7f34d801cdf0>"
      ]
     },
     "execution_count": 2,
     "metadata": {},
     "output_type": "execute_result"
    }
   ],
   "source": [
    "torch.manual_seed(7)"
   ]
  },
  {
   "cell_type": "code",
   "execution_count": 3,
   "metadata": {},
   "outputs": [],
   "source": [
    "x = torch.randn(200, 200)\n",
    "y = torch.randint(0, 2, (200, 1)).type(torch.FloatTensor)"
   ]
  },
  {
   "cell_type": "code",
   "execution_count": 4,
   "metadata": {},
   "outputs": [],
   "source": [
    "model = nn.Sequential(nn.Linear(200, 1), nn.Sigmoid())\n",
    "loss = torch.nn.MSELoss()\n",
    "opt = torch.optim.Adam(model.parameters(), lr = 0.01)"
   ]
  },
  {
   "cell_type": "code",
   "execution_count": 5,
   "metadata": {},
   "outputs": [
    {
     "name": "stdout",
     "output_type": "stream",
     "text": [
      "0.27204734086990356\n",
      "0.2459321767091751\n",
      "0.22305504977703094\n",
      "0.20358584821224213\n",
      "0.18728896975517273\n",
      "0.1736208200454712\n",
      "0.161982923746109\n",
      "0.15186212956905365\n",
      "0.14288510382175446\n",
      "0.13481038808822632\n"
     ]
    }
   ],
   "source": [
    "loss_list = []\n",
    "for i in range(10):\n",
    "    y_pred = model(x)\n",
    "    losses = loss(y_pred, y)\n",
    "    print(losses.item())\n",
    "    opt.zero_grad()\n",
    "    losses.backward()\n",
    "    opt.step()"
   ]
  }
 ],
 "metadata": {
  "kernelspec": {
   "display_name": "Python 3",
   "language": "python",
   "name": "python3"
  },
  "language_info": {
   "codemirror_mode": {
    "name": "ipython",
    "version": 3
   },
   "file_extension": ".py",
   "mimetype": "text/x-python",
   "name": "python",
   "nbconvert_exporter": "python",
   "pygments_lexer": "ipython3",
   "version": "3.7.3"
  }
 },
 "nbformat": 4,
 "nbformat_minor": 2
}
