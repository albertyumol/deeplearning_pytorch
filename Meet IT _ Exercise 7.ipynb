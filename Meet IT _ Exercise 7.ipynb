{
 "cells": [
  {
   "cell_type": "markdown",
   "metadata": {},
   "source": [
    "#### Output Formula for Convolution\n",
    "- $ O = \\frac {W - K + 2P}{S} + 1$\n",
    "    - $O$: output height/length\n",
    "    - $W$: input height/length\n",
    "    - $K$: **filter size (kernel size) = 5**\n",
    "    - $P$: **same padding (non-zero)**\n",
    "        - $P = \\frac{K - 1}{2}  = \\frac{5 - 1}{2} = 2$\n",
    "    - $S$: **stride = 1**\n",
    "    \n",
    "#### Output Formula for Pooling\n",
    "- $ O = \\frac {W}{K}$\n",
    "    - W: input height/width\n",
    "    - K: **filter size = 2**"
   ]
  },
  {
   "cell_type": "code",
   "execution_count": 2,
   "metadata": {},
   "outputs": [
    {
     "ename": "SyntaxError",
     "evalue": "invalid syntax (<ipython-input-2-949fecab9e9c>, line 1)",
     "output_type": "error",
     "traceback": [
      "\u001b[0;36m  File \u001b[0;32m\"<ipython-input-2-949fecab9e9c>\"\u001b[0;36m, line \u001b[0;32m1\u001b[0m\n\u001b[0;31m    <img src=\"answer.png\">\u001b[0m\n\u001b[0m    ^\u001b[0m\n\u001b[0;31mSyntaxError\u001b[0m\u001b[0;31m:\u001b[0m invalid syntax\n"
     ]
    }
   ],
   "source": [
    "<img src=\"answer.png\">"
   ]
  },
  {
   "cell_type": "code",
   "execution_count": null,
   "metadata": {},
   "outputs": [],
   "source": []
  }
 ],
 "metadata": {
  "kernelspec": {
   "display_name": "Python 3",
   "language": "python",
   "name": "python3"
  },
  "language_info": {
   "codemirror_mode": {
    "name": "ipython",
    "version": 3
   },
   "file_extension": ".py",
   "mimetype": "text/x-python",
   "name": "python",
   "nbconvert_exporter": "python",
   "pygments_lexer": "ipython3",
   "version": "3.7.3"
  }
 },
 "nbformat": 4,
 "nbformat_minor": 2
}
