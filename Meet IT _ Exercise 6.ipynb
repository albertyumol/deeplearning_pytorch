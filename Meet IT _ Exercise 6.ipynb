{
 "cells": [
  {
   "cell_type": "markdown",
   "metadata": {},
   "source": [
    "In this scenario, the equation is given by:\n",
    "\n",
    "$ value = X_1 * w_1 + X_2 * w_2 + X_3 * w_3 $\n",
    "\n",
    "And the weights are:\n",
    "\n",
    "$[w1, w2, w3] = [1, 0, 1]$\n",
    "\n",
    "Thus, the value is 8 which is greater than your threshold. You will eventually go to the concert, eat some ice cream, and alone because you are single.\n"
   ]
  }
 ],
 "metadata": {
  "kernelspec": {
   "display_name": "Python 3",
   "language": "python",
   "name": "python3"
  },
  "language_info": {
   "codemirror_mode": {
    "name": "ipython",
    "version": 3
   },
   "file_extension": ".py",
   "mimetype": "text/x-python",
   "name": "python",
   "nbconvert_exporter": "python",
   "pygments_lexer": "ipython3",
   "version": "3.7.3"
  }
 },
 "nbformat": 4,
 "nbformat_minor": 2
}
