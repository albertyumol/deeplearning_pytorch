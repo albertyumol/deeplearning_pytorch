{
 "cells": [
  {
   "cell_type": "code",
   "execution_count": 1,
   "metadata": {},
   "outputs": [
    {
     "name": "stdout",
     "output_type": "stream",
     "text": [
      "301 ms ± 7.88 ms per loop (mean ± std. dev. of 7 runs, 1 loop each)\n"
     ]
    }
   ],
   "source": [
    "import math\n",
    "import numpy as np\n",
    "\n",
    "def sigmoid(x):\n",
    "    a = []\n",
    "    for i in x:\n",
    "        a.append(1/(1+math.exp(-i)))\n",
    "    return a\n",
    "\n",
    "def tanh(x, derivative=False):\n",
    "    if (derivative == True):\n",
    "        return (1 - (x ** 2))\n",
    "    return np.tanh(x)\n",
    "\n",
    "def relu(x):\n",
    "    b = []\n",
    "    for i in x:\n",
    "        if i<0:\n",
    "            b.append(0)\n",
    "        else:\n",
    "            b.append(i)\n",
    "    return b\n",
    "\n",
    "x = np.arange(-3., 3., 1e-5)\n",
    "#sig = sigmoid(x)\n",
    "#tanh_ = tanh(x)\n",
    "%timeit relu_ = relu(x)"
   ]
  },
  {
   "cell_type": "markdown",
   "metadata": {},
   "source": [
    "$ sigmoid: ~338 ms $\n",
    "\n",
    "$ tanh: ~6.99 ms $\n",
    "\n",
    "$ sigmoid: ~296 ms $\n",
    "\n",
    "Tanh is the fastest!"
   ]
  }
 ],
 "metadata": {
  "kernelspec": {
   "display_name": "Python 3",
   "language": "python",
   "name": "python3"
  },
  "language_info": {
   "codemirror_mode": {
    "name": "ipython",
    "version": 3
   },
   "file_extension": ".py",
   "mimetype": "text/x-python",
   "name": "python",
   "nbconvert_exporter": "python",
   "pygments_lexer": "ipython3",
   "version": "3.7.3"
  }
 },
 "nbformat": 4,
 "nbformat_minor": 2
}
