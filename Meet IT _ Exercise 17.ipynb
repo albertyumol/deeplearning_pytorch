{
 "cells": [
  {
   "cell_type": "code",
   "execution_count": 1,
   "metadata": {},
   "outputs": [
    {
     "data": {
      "text/plain": [
       "<torch._C.Generator at 0x7f83c401bdf0>"
      ]
     },
     "execution_count": 1,
     "metadata": {},
     "output_type": "execute_result"
    }
   ],
   "source": [
    "import torch\n",
    "torch.manual_seed(7)"
   ]
  },
  {
   "cell_type": "code",
   "execution_count": 2,
   "metadata": {},
   "outputs": [
    {
     "data": {
      "text/plain": [
       "tensor([[-0.8201,  0.3956,  0.8989, -1.3884, -0.1670],\n",
       "        [ 0.2851, -0.6411, -0.8937,  0.9265, -1.2169],\n",
       "        [-0.0810,  1.3615, -1.3032,  0.0875, -1.3850],\n",
       "        [ 0.5036, -0.0835, -0.5640, -2.0565, -0.3567],\n",
       "        [ 1.0956,  0.4824,  1.3989,  1.4059, -1.4013]])"
      ]
     },
     "execution_count": 2,
     "metadata": {},
     "output_type": "execute_result"
    }
   ],
   "source": [
    "y = torch.randn(5,5)\n",
    "y"
   ]
  },
  {
   "cell_type": "code",
   "execution_count": 3,
   "metadata": {},
   "outputs": [
    {
     "data": {
      "text/plain": [
       "tensor([[-0.8201,  0.2851, -0.0810,  0.5036,  1.0956],\n",
       "        [ 0.3956, -0.6411,  1.3615, -0.0835,  0.4824],\n",
       "        [ 0.8989, -0.8937, -1.3032, -0.5640,  1.3989],\n",
       "        [-1.3884,  0.9265,  0.0875, -2.0565,  1.4059],\n",
       "        [-0.1670, -1.2169, -1.3850, -0.3567, -1.4013]])"
      ]
     },
     "execution_count": 3,
     "metadata": {},
     "output_type": "execute_result"
    }
   ],
   "source": [
    "z = y.t()\n",
    "z"
   ]
  },
  {
   "cell_type": "code",
   "execution_count": 4,
   "metadata": {},
   "outputs": [
    {
     "name": "stdout",
     "output_type": "stream",
     "text": [
      "tensor(0.)\n"
     ]
    }
   ],
   "source": [
    "print(y.trace() - z.trace())"
   ]
  }
 ],
 "metadata": {
  "kernelspec": {
   "display_name": "Python 3",
   "language": "python",
   "name": "python3"
  },
  "language_info": {
   "codemirror_mode": {
    "name": "ipython",
    "version": 3
   },
   "file_extension": ".py",
   "mimetype": "text/x-python",
   "name": "python",
   "nbconvert_exporter": "python",
   "pygments_lexer": "ipython3",
   "version": "3.7.3"
  }
 },
 "nbformat": 4,
 "nbformat_minor": 2
}
